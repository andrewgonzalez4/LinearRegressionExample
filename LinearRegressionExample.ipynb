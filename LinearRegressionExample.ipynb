{
  "nbformat": 4,
  "nbformat_minor": 0,
  "metadata": {
    "colab": {
      "name": "LinearRegressionExample.ipynb",
      "provenance": [],
      "collapsed_sections": [],
      "toc_visible": true,
      "authorship_tag": "ABX9TyOrPAGZl+Is1vkzpvus9A/m",
      "include_colab_link": true
    },
    "kernelspec": {
      "name": "python3",
      "display_name": "Python 3"
    }
  },
  "cells": [
    {
      "cell_type": "markdown",
      "metadata": {
        "id": "view-in-github",
        "colab_type": "text"
      },
      "source": [
        "<a href=\"https://colab.research.google.com/github/andrewgonzalez4/LinearRegressionExample/blob/master/LinearRegressionExample.ipynb\" target=\"_parent\"><img src=\"https://colab.research.google.com/assets/colab-badge.svg\" alt=\"Open In Colab\"/></a>"
      ]
    },
    {
      "cell_type": "markdown",
      "metadata": {
        "id": "Lh9BhplE7OWz",
        "colab_type": "text"
      },
      "source": [
        "## Imports"
      ]
    },
    {
      "cell_type": "code",
      "metadata": {
        "id": "inH3Wd79z5D5",
        "colab_type": "code",
        "colab": {}
      },
      "source": [
        "import numpy as np\n",
        "import pandas as pd\n",
        "import sklearn\n",
        "from sklearn import linear_model\n",
        "from sklearn.utils import shuffle"
      ],
      "execution_count": 0,
      "outputs": []
    },
    {
      "cell_type": "markdown",
      "metadata": {
        "id": "47YMBJJa7TMT",
        "colab_type": "text"
      },
      "source": [
        "## Data importing and organization"
      ]
    },
    {
      "cell_type": "code",
      "metadata": {
        "id": "BqgruVs3z_JY",
        "colab_type": "code",
        "colab": {
          "base_uri": "https://localhost:8080/",
          "height": 119
        },
        "outputId": "7fbef56e-933d-4e7e-c74a-69f46afef624"
      },
      "source": [
        "data = pd.read_csv('student-mat.csv', sep = ';')\n",
        "data = data[['G1','G2','G3', 'traveltime', 'studytime', 'failures', 'freetime', 'absences']]\n",
        "print(data.head())\n"
      ],
      "execution_count": 21,
      "outputs": [
        {
          "output_type": "stream",
          "text": [
            "   G1  G2  G3  traveltime  studytime  failures  freetime  absences\n",
            "0   5   6   6           2          2         0         3         6\n",
            "1   5   5   6           1          2         0         3         4\n",
            "2   7   8  10           1          2         3         3        10\n",
            "3  15  14  15           1          3         0         2         2\n",
            "4   6  10  10           1          2         0         3         4\n"
          ],
          "name": "stdout"
        }
      ]
    },
    {
      "cell_type": "markdown",
      "metadata": {
        "id": "f3_iglvF7eyR",
        "colab_type": "text"
      },
      "source": [
        "## Separation in train and test data."
      ]
    },
    {
      "cell_type": "code",
      "metadata": {
        "id": "PPCQF7WI7cQF",
        "colab_type": "code",
        "colab": {}
      },
      "source": [
        "predict = 'G3'\n",
        "#Drop the desired output from the original data and store in X and Y arrays.\n",
        "X = np.array(data.drop([predict], 1))\n",
        "Y = np.array(data[predict])\n",
        "\n",
        "x_train, x_test, y_train, y_test = sklearn.model_selection.train_test_split(X,Y,test_size = 0.1) #The test data size will be 10%."
      ],
      "execution_count": 0,
      "outputs": []
    },
    {
      "cell_type": "code",
      "metadata": {
        "id": "iqPqn2Dt9-G1",
        "colab_type": "code",
        "colab": {
          "base_uri": "https://localhost:8080/",
          "height": 136
        },
        "outputId": "c2a773a1-1cb1-49e2-9f05-133ffce5b541"
      },
      "source": [
        "linear = linear_model.LinearRegression()\n",
        "linear.fit(x_train,y_train)\n",
        "acc = 100 * linear.score(x_test,y_test)\n",
        "\n",
        "print(\"The accuracy is: {}% \\n\".format(acc))\n",
        "print(\"Coeficients: {} \\n\".format(linear.coef_))\n",
        "print(\"Y-intercept = {} \\n\".format(linear.intercept_))"
      ],
      "execution_count": 48,
      "outputs": [
        {
          "output_type": "stream",
          "text": [
            "The accuracy is: 84.44100204677576% \n",
            "\n",
            "Coeficients: [ 0.14456806  0.96925233  0.09854377 -0.15816585 -0.31776085  0.14642179\n",
            "  0.03621768] \n",
            "\n",
            "Y-intercept = -1.9036588200045301 \n",
            "\n"
          ],
          "name": "stdout"
        }
      ]
    }
  ]
}